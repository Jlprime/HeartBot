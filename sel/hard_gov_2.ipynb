{
 "cells": [
  {
   "cell_type": "code",
   "execution_count": 18,
   "metadata": {},
   "outputs": [],
   "source": [
    "import json\n",
    "from bs4 import BeautifulSoup as soup\n",
    "import pandas as pd\n",
    "from glob import glob"
   ]
  },
  {
   "cell_type": "code",
   "execution_count": 22,
   "metadata": {},
   "outputs": [],
   "source": [
    "volunteer_gov_sg_detail_data = []\n",
    "for fn in glob(\"output/volunteer_gov_sg_detail_data_*.json\"):\n",
    "  with open(fn, \"r\") as f:\n",
    "    volunteer_gov_sg_detail_data.extend(\n",
    "      json.load(f)['entries']\n",
    "    )"
   ]
  },
  {
   "cell_type": "code",
   "execution_count": 23,
   "metadata": {},
   "outputs": [],
   "source": [
    "dfs = []\n",
    "for entry in volunteer_gov_sg_detail_data:\n",
    "  url = entry['url']\n",
    "\n",
    "  page = soup(entry['html'])\n",
    "  page_details = page.select_one(\"#oppoRoleDetails\")\n",
    "  page_table = page_details.select_one(\"table.oppoRegistration\")\n",
    "  df = pd.read_html(str(page_table))[0]\n",
    "  df['url'] = url\n",
    "  dfs.append(df)\n",
    "\n",
    "all_df = pd.concat(dfs)\n",
    "all_df = all_df.reset_index(drop=True)"
   ]
  },
  {
   "cell_type": "code",
   "execution_count": 25,
   "metadata": {},
   "outputs": [],
   "source": [
    "all_df.to_csv(\"output/volunteer_gov_sg_detail.csv\")"
   ]
  },
  {
   "cell_type": "code",
   "execution_count": null,
   "metadata": {},
   "outputs": [],
   "source": []
  }
 ],
 "metadata": {
  "interpreter": {
   "hash": "2b5698b7912210ccaec20f5847a16fb079deeeab17bd11e890f2137eb59bbc85"
  },
  "kernelspec": {
   "display_name": "Python 3.9.13 ('base')",
   "language": "python",
   "name": "python3"
  },
  "language_info": {
   "codemirror_mode": {
    "name": "ipython",
    "version": 3
   },
   "file_extension": ".py",
   "mimetype": "text/x-python",
   "name": "python",
   "nbconvert_exporter": "python",
   "pygments_lexer": "ipython3",
   "version": "3.9.13"
  },
  "orig_nbformat": 4
 },
 "nbformat": 4,
 "nbformat_minor": 2
}
