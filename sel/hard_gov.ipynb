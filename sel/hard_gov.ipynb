{
 "cells": [
  {
   "cell_type": "code",
   "execution_count": 1,
   "metadata": {},
   "outputs": [],
   "source": [
    "import json\n",
    "from bs4 import BeautifulSoup as soup\n",
    "import pandas as pd"
   ]
  },
  {
   "cell_type": "code",
   "execution_count": 2,
   "metadata": {},
   "outputs": [],
   "source": [
    "with open(\"output/volunteer_gov_sg_data.json\", \"r\") as f:\n",
    "  volunteer_gov_sg_data = json.load(f)"
   ]
  },
  {
   "cell_type": "code",
   "execution_count": 3,
   "metadata": {},
   "outputs": [
    {
     "data": {
      "text/plain": [
       "'/volunteer/opportunity/details/?id=177519fc-a2fe-ec11-a9ff-9d1555179c89'"
      ]
     },
     "execution_count": 3,
     "metadata": {},
     "output_type": "execute_result"
    }
   ],
   "source": [
    "volunteer_gov_sg_data['entries'][0]['RedirectionURL']"
   ]
  },
  {
   "cell_type": "code",
   "execution_count": 4,
   "metadata": {},
   "outputs": [],
   "source": [
    "with open(\"output/volunteer_gov_sg_detail_data_1.json\", \"r\") as f:\n",
    "  volunteer_gov_sg_detail_data = json.load(f)"
   ]
  },
  {
   "cell_type": "code",
   "execution_count": 19,
   "metadata": {},
   "outputs": [
    {
     "data": {
      "text/plain": [
       "'https://www.volunteer.gov.sg/volunteer/opportunity/details/?id=177519fc-a2fe-ec11-a9ff-9d1555179c89'"
      ]
     },
     "execution_count": 19,
     "metadata": {},
     "output_type": "execute_result"
    }
   ],
   "source": [
    "volunteer_gov_sg_detail_data['entries'][0]['url']"
   ]
  },
  {
   "cell_type": "code",
   "execution_count": 6,
   "metadata": {},
   "outputs": [],
   "source": [
    "page = soup(volunteer_gov_sg_detail_data['entries'][0]['html'])\n",
    "page_details = page.select_one(\"#oppoRoleDetails\")\n",
    "page_table = page_details.select_one(\"table.oppoRegistration\")"
   ]
  },
  {
   "cell_type": "code",
   "execution_count": 11,
   "metadata": {},
   "outputs": [],
   "source": [
    "df = pd.read_html(str(page_table))"
   ]
  },
  {
   "cell_type": "code",
   "execution_count": 16,
   "metadata": {},
   "outputs": [
    {
     "data": {
      "text/html": [
       "<div>\n",
       "<style scoped>\n",
       "    .dataframe tbody tr th:only-of-type {\n",
       "        vertical-align: middle;\n",
       "    }\n",
       "\n",
       "    .dataframe tbody tr th {\n",
       "        vertical-align: top;\n",
       "    }\n",
       "\n",
       "    .dataframe thead th {\n",
       "        text-align: right;\n",
       "    }\n",
       "</style>\n",
       "<table border=\"1\" class=\"dataframe\">\n",
       "  <thead>\n",
       "    <tr style=\"text-align: right;\">\n",
       "      <th></th>\n",
       "      <th>Date</th>\n",
       "      <th>Time</th>\n",
       "      <th>Location</th>\n",
       "      <th>Registration open on</th>\n",
       "      <th>Registration close on</th>\n",
       "      <th>Available Slots</th>\n",
       "      <th>Registration Status</th>\n",
       "    </tr>\n",
       "  </thead>\n",
       "  <tbody>\n",
       "    <tr>\n",
       "      <th>0</th>\n",
       "      <td>15/07/2022</td>\n",
       "      <td>08:00 AM–  10:00 AM</td>\n",
       "      <td>60 Pasir Ris Drive 1 Life Student Care - Park ...</td>\n",
       "      <td>08/07/2022 12:00 AM</td>\n",
       "      <td>13/07/2022 12:00 AM</td>\n",
       "      <td>8</td>\n",
       "      <td>NaN</td>\n",
       "    </tr>\n",
       "  </tbody>\n",
       "</table>\n",
       "</div>"
      ],
      "text/plain": [
       "         Date                 Time  \\\n",
       "0  15/07/2022  08:00 AM–  10:00 AM   \n",
       "\n",
       "                                            Location Registration open on  \\\n",
       "0  60 Pasir Ris Drive 1 Life Student Care - Park ...  08/07/2022 12:00 AM   \n",
       "\n",
       "  Registration close on  Available Slots  Registration Status  \n",
       "0   13/07/2022 12:00 AM                8                  NaN  "
      ]
     },
     "execution_count": 16,
     "metadata": {},
     "output_type": "execute_result"
    }
   ],
   "source": [
    "df[0]"
   ]
  },
  {
   "cell_type": "code",
   "execution_count": null,
   "metadata": {},
   "outputs": [],
   "source": []
  }
 ],
 "metadata": {
  "interpreter": {
   "hash": "2b5698b7912210ccaec20f5847a16fb079deeeab17bd11e890f2137eb59bbc85"
  },
  "kernelspec": {
   "display_name": "Python 3.9.13 ('base')",
   "language": "python",
   "name": "python3"
  },
  "language_info": {
   "codemirror_mode": {
    "name": "ipython",
    "version": 3
   },
   "file_extension": ".py",
   "mimetype": "text/x-python",
   "name": "python",
   "nbconvert_exporter": "python",
   "pygments_lexer": "ipython3",
   "version": "3.9.13"
  },
  "orig_nbformat": 4
 },
 "nbformat": 4,
 "nbformat_minor": 2
}
